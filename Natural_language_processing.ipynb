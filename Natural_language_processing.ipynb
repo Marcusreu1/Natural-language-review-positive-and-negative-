{
  "nbformat": 4,
  "nbformat_minor": 0,
  "metadata": {
    "colab": {
      "provenance": [],
      "toc_visible": true,
      "authorship_tag": "ABX9TyPY36oKIvW9DZVyLmuJF+JG",
      "include_colab_link": true
    },
    "kernelspec": {
      "name": "python3",
      "display_name": "Python 3"
    },
    "language_info": {
      "name": "python"
    }
  },
  "cells": [
    {
      "cell_type": "markdown",
      "metadata": {
        "id": "view-in-github",
        "colab_type": "text"
      },
      "source": [
        "<a href=\"https://colab.research.google.com/github/Marcusreu1/Natural-language-review-positive-and-negative-/blob/main/Natural_language_processing.ipynb\" target=\"_parent\"><img src=\"https://colab.research.google.com/assets/colab-badge.svg\" alt=\"Open In Colab\"/></a>"
      ]
    },
    {
      "cell_type": "markdown",
      "source": [
        "#import libraries"
      ],
      "metadata": {
        "id": "iZTwbxYaOZVK"
      }
    },
    {
      "cell_type": "code",
      "execution_count": 1,
      "metadata": {
        "id": "3mW1E7ETOR07"
      },
      "outputs": [],
      "source": [
        "from keras.datasets import imdb\n",
        "from keras.preprocessing import sequence\n",
        "import tensorflow as tf\n",
        "import os\n",
        "import numpy as np\n",
        "\n"
      ]
    },
    {
      "cell_type": "markdown",
      "source": [
        "#descargar data"
      ],
      "metadata": {
        "id": "K5aV_vtvXEmu"
      }
    },
    {
      "cell_type": "code",
      "source": [
        "vocab_size=88584\n",
        "\n",
        "maxlen=250\n",
        "batch_size=64\n",
        "\n",
        "(train_data, train_labels), (test_data, test_labels) = imdb.load_data(num_words= vocab_size)"
      ],
      "metadata": {
        "colab": {
          "base_uri": "https://localhost:8080/"
        },
        "id": "Mk_UTHFzXfjI",
        "outputId": "ea3a5448-d5fe-4004-8cf3-c1fc55d95afb"
      },
      "execution_count": 2,
      "outputs": [
        {
          "output_type": "stream",
          "name": "stdout",
          "text": [
            "Downloading data from https://storage.googleapis.com/tensorflow/tf-keras-datasets/imdb.npz\n",
            "17464789/17464789 [==============================] - 1s 0us/step\n"
          ]
        }
      ]
    },
    {
      "cell_type": "markdown",
      "source": [
        "#preprocessing"
      ],
      "metadata": {
        "id": "N9VUBZguXit4"
      }
    },
    {
      "cell_type": "code",
      "source": [
        "train_data=sequence.pad_sequences(train_data,maxlen)\n",
        "test_data=sequence.pad_sequences(test_data,maxlen)"
      ],
      "metadata": {
        "id": "dcs3rN9CXiZI"
      },
      "execution_count": 3,
      "outputs": []
    },
    {
      "cell_type": "markdown",
      "source": [
        "#creating the model"
      ],
      "metadata": {
        "id": "nYBtHCKYS8eY"
      }
    },
    {
      "cell_type": "code",
      "source": [
        "model = tf.keras.Sequential([\n",
        "    tf.keras.layers.Embedding(88584, 32),\n",
        "    tf.keras.layers.LSTM(32),\n",
        "    tf.keras.layers.Dense(1, activation='sigmoid')\n",
        "])"
      ],
      "metadata": {
        "id": "wA_cCSaVS_y1"
      },
      "execution_count": 4,
      "outputs": []
    },
    {
      "cell_type": "markdown",
      "source": [
        "#see model"
      ],
      "metadata": {
        "id": "m-Ol8bVNagxe"
      }
    },
    {
      "cell_type": "code",
      "source": [
        "model.summary()"
      ],
      "metadata": {
        "colab": {
          "base_uri": "https://localhost:8080/"
        },
        "id": "7sCMTK6majC1",
        "outputId": "170b83b4-d9b1-4374-a471-665fa201057d"
      },
      "execution_count": 5,
      "outputs": [
        {
          "output_type": "stream",
          "name": "stdout",
          "text": [
            "Model: \"sequential\"\n",
            "_________________________________________________________________\n",
            " Layer (type)                Output Shape              Param #   \n",
            "=================================================================\n",
            " embedding (Embedding)       (None, None, 32)          2834688   \n",
            "                                                                 \n",
            " lstm (LSTM)                 (None, 32)                8320      \n",
            "                                                                 \n",
            " dense (Dense)               (None, 1)                 33        \n",
            "                                                                 \n",
            "=================================================================\n",
            "Total params: 2843041 (10.85 MB)\n",
            "Trainable params: 2843041 (10.85 MB)\n",
            "Non-trainable params: 0 (0.00 Byte)\n",
            "_________________________________________________________________\n"
          ]
        }
      ]
    },
    {
      "cell_type": "markdown",
      "source": [
        "#train model"
      ],
      "metadata": {
        "id": "wF4th6axa01e"
      }
    },
    {
      "cell_type": "code",
      "source": [
        "model.compile(\n",
        "    loss=\"binary_crossentropy\",\n",
        "    optimizer=\"rmsprop\",\n",
        "    metrics=[\"acc\"]\n",
        "    )\n",
        "\n",
        "history= model.fit(train_data,\n",
        "                   train_labels,\n",
        "                   epochs=10,\n",
        "                   validation_split=0.2\n",
        "                   )"
      ],
      "metadata": {
        "colab": {
          "base_uri": "https://localhost:8080/"
        },
        "id": "823OmXeKa3Nq",
        "outputId": "716cc3f1-3307-4aac-fd06-13cac0a38ec3"
      },
      "execution_count": 6,
      "outputs": [
        {
          "output_type": "stream",
          "name": "stdout",
          "text": [
            "Epoch 1/10\n",
            "625/625 [==============================] - 63s 97ms/step - loss: 0.4469 - acc: 0.7847 - val_loss: 0.3698 - val_acc: 0.8386\n",
            "Epoch 2/10\n",
            "625/625 [==============================] - 57s 92ms/step - loss: 0.2611 - acc: 0.8992 - val_loss: 0.2920 - val_acc: 0.8750\n",
            "Epoch 3/10\n",
            "625/625 [==============================] - 64s 103ms/step - loss: 0.2035 - acc: 0.9247 - val_loss: 0.3003 - val_acc: 0.8838\n",
            "Epoch 4/10\n",
            "625/625 [==============================] - 70s 112ms/step - loss: 0.1615 - acc: 0.9411 - val_loss: 0.2932 - val_acc: 0.8812\n",
            "Epoch 5/10\n",
            "625/625 [==============================] - 57s 91ms/step - loss: 0.1357 - acc: 0.9529 - val_loss: 0.3158 - val_acc: 0.8796\n",
            "Epoch 6/10\n",
            "625/625 [==============================] - 62s 99ms/step - loss: 0.1147 - acc: 0.9603 - val_loss: 0.3190 - val_acc: 0.8844\n",
            "Epoch 7/10\n",
            "625/625 [==============================] - 58s 93ms/step - loss: 0.0974 - acc: 0.9683 - val_loss: 0.3915 - val_acc: 0.8778\n",
            "Epoch 8/10\n",
            "625/625 [==============================] - 59s 95ms/step - loss: 0.0805 - acc: 0.9746 - val_loss: 0.3521 - val_acc: 0.8756\n",
            "Epoch 9/10\n",
            "625/625 [==============================] - 58s 93ms/step - loss: 0.0721 - acc: 0.9780 - val_loss: 0.4353 - val_acc: 0.8736\n",
            "Epoch 10/10\n",
            "625/625 [==============================] - 59s 94ms/step - loss: 0.0578 - acc: 0.9818 - val_loss: 0.4489 - val_acc: 0.8738\n"
          ]
        }
      ]
    },
    {
      "cell_type": "markdown",
      "source": [
        "#evaluar resultados"
      ],
      "metadata": {
        "id": "u_GKeKKOcUXX"
      }
    },
    {
      "cell_type": "code",
      "source": [
        "results= model.evaluate(test_data, test_labels)\n",
        "print(results)"
      ],
      "metadata": {
        "colab": {
          "base_uri": "https://localhost:8080/"
        },
        "id": "duwUL_eLcWpf",
        "outputId": "da5aecaf-df65-47a3-eff2-6290c03a000e"
      },
      "execution_count": 7,
      "outputs": [
        {
          "output_type": "stream",
          "name": "stdout",
          "text": [
            "782/782 [==============================] - 18s 24ms/step - loss: 0.5274 - acc: 0.8563\n",
            "[0.5274378657341003, 0.8563200235366821]\n"
          ]
        }
      ]
    },
    {
      "cell_type": "markdown",
      "source": [
        "#codificar texto a numeros"
      ],
      "metadata": {
        "id": "4ZgTSH62e-rK"
      }
    },
    {
      "cell_type": "code",
      "source": [
        "import keras.preprocessing\n",
        "\n",
        "word_index=imdb.get_word_index()\n",
        "\n",
        "\n",
        "def encode_text(text):\n",
        "  tokens= keras.preprocessing.text.text_to_word_sequence(text)\n",
        "  tokens=[word_index[word] if word in word_index else 0 for word in tokens]\n",
        "  return sequence.pad_sequences([tokens], maxlen)[0]\n",
        "\n",
        "\n",
        "text=\"that movie was just amazing, so amazing\"\n",
        "encoded= encode_text(text)\n",
        "print(encoded)"
      ],
      "metadata": {
        "colab": {
          "base_uri": "https://localhost:8080/"
        },
        "id": "NodO2XtOfA4G",
        "outputId": "eb372486-fe2f-4dfa-9520-17aae58639b3"
      },
      "execution_count": 8,
      "outputs": [
        {
          "output_type": "stream",
          "name": "stdout",
          "text": [
            "Downloading data from https://storage.googleapis.com/tensorflow/tf-keras-datasets/imdb_word_index.json\n",
            "1641221/1641221 [==============================] - 1s 0us/step\n",
            "[  0   0   0   0   0   0   0   0   0   0   0   0   0   0   0   0   0   0\n",
            "   0   0   0   0   0   0   0   0   0   0   0   0   0   0   0   0   0   0\n",
            "   0   0   0   0   0   0   0   0   0   0   0   0   0   0   0   0   0   0\n",
            "   0   0   0   0   0   0   0   0   0   0   0   0   0   0   0   0   0   0\n",
            "   0   0   0   0   0   0   0   0   0   0   0   0   0   0   0   0   0   0\n",
            "   0   0   0   0   0   0   0   0   0   0   0   0   0   0   0   0   0   0\n",
            "   0   0   0   0   0   0   0   0   0   0   0   0   0   0   0   0   0   0\n",
            "   0   0   0   0   0   0   0   0   0   0   0   0   0   0   0   0   0   0\n",
            "   0   0   0   0   0   0   0   0   0   0   0   0   0   0   0   0   0   0\n",
            "   0   0   0   0   0   0   0   0   0   0   0   0   0   0   0   0   0   0\n",
            "   0   0   0   0   0   0   0   0   0   0   0   0   0   0   0   0   0   0\n",
            "   0   0   0   0   0   0   0   0   0   0   0   0   0   0   0   0   0   0\n",
            "   0   0   0   0   0   0   0   0   0   0   0   0   0   0   0   0   0   0\n",
            "   0   0   0   0   0   0   0   0   0  12  17  13  40 477  35 477]\n"
          ]
        }
      ]
    },
    {
      "cell_type": "markdown",
      "source": [
        "#descodificar numeros a texto"
      ],
      "metadata": {
        "id": "8vI-8R08q_hp"
      }
    },
    {
      "cell_type": "code",
      "source": [
        "reverse_word_index={value:key for (key, value) in word_index.items()}\n",
        "\n",
        "\n",
        "def decode_integers(integers):\n",
        "  Pad= 0\n",
        "  text=\"\"\n",
        "  for num in integers:\n",
        "    if num !=Pad:\n",
        "      text += reverse_word_index[num]+ \" \"\n",
        "  return text[:-1]\n",
        "\n",
        "print(decode_integers(encoded))"
      ],
      "metadata": {
        "colab": {
          "base_uri": "https://localhost:8080/"
        },
        "id": "egD61YFIpGHR",
        "outputId": "957c084e-accf-4979-a2d2-a521839a68cb"
      },
      "execution_count": 10,
      "outputs": [
        {
          "output_type": "stream",
          "name": "stdout",
          "text": [
            "that movie was just amazing so amazing\n"
          ]
        }
      ]
    },
    {
      "cell_type": "markdown",
      "source": [
        "#hacer prediccion"
      ],
      "metadata": {
        "id": "vebNSuSbrEfp"
      }
    },
    {
      "cell_type": "code",
      "source": [
        "def predict(text):\n",
        "  encoded_text= encode_text(text)\n",
        "  pred= np.zeros((1,250))\n",
        "  pred[0]= encoded_text\n",
        "  result= model.predict(pred)\n",
        "  print(result[0])\n",
        "\n",
        "\n",
        "positive_review=\"that movie was amazing men\"\n",
        "predict(positive_review)\n",
        "\n",
        "negative_review=\"that movie is so bad\"\n",
        "predict(negative_review)"
      ],
      "metadata": {
        "colab": {
          "base_uri": "https://localhost:8080/"
        },
        "id": "8LEAg4nxrG0O",
        "outputId": "8f422b7d-e590-4a1f-f7b4-b83ceefb6a70"
      },
      "execution_count": 21,
      "outputs": [
        {
          "output_type": "stream",
          "name": "stdout",
          "text": [
            "1/1 [==============================] - 0s 25ms/step\n",
            "[0.6314086]\n",
            "1/1 [==============================] - 0s 27ms/step\n",
            "[0.46635795]\n"
          ]
        }
      ]
    }
  ]
}